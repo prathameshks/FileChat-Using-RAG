{
  "cells": [
    {
      "cell_type": "code",
      "execution_count": 1,
      "id": "ca1b1072-35e7-4d33-a4a2-acec681c37c4",
      "metadata": {
        "id": "ca1b1072-35e7-4d33-a4a2-acec681c37c4"
      },
      "outputs": [],
      "source": [
        "import os\n",
        "import requests"
      ]
    },
    {
      "cell_type": "markdown",
      "id": "0oqcBzFNxDWi",
      "metadata": {
        "id": "0oqcBzFNxDWi"
      },
      "source": [
        "Downloading The Document (PDF File)"
      ]
    },
    {
      "cell_type": "code",
      "execution_count": 2,
      "id": "6lvBrtNAuuSk",
      "metadata": {
        "colab": {
          "base_uri": "https://localhost:8080/"
        },
        "id": "6lvBrtNAuuSk",
        "outputId": "9d52fbe7-12ac-404c-865b-c51ca6f867f3"
      },
      "outputs": [
        {
          "name": "stdout",
          "output_type": "stream",
          "text": [
            "human-nutrition-text.pdf already exists\n"
          ]
        }
      ],
      "source": [
        "# get document name\n",
        "pdf_name = \"human-nutrition-text.pdf\"\n",
        "\n",
        "if not os.path.exists(pdf_name):\n",
        "    print(f\"Downloading {pdf_name}\")\n",
        "\n",
        "    # url of document to download\n",
        "\n",
        "    pdf_url = \"https://pressbooks.oer.hawaii.edu/humannutrition2/open/download?type=pdf\"\n",
        "\n",
        "    resp = requests.get(pdf_url)\n",
        "\n",
        "    if resp.status_code == 200:\n",
        "        with open(pdf_name, \"wb\") as f:\n",
        "            f.write(resp.content)\n",
        "        print(f\"Downloaded {pdf_name} and Saved\")\n",
        "    else:\n",
        "        print(f\"Failed to download {pdf_name}\")\n",
        "else:\n",
        "    print(f\"{pdf_name} already exists\")\n"
      ]
    },
    {
      "cell_type": "markdown",
      "id": "IkVjQLjm4erQ",
      "metadata": {
        "id": "IkVjQLjm4erQ"
      },
      "source": [
        "Open the PDF"
      ]
    },
    {
      "cell_type": "code",
      "execution_count": 3,
      "id": "g3LwZqGK_NHN",
      "metadata": {
        "colab": {
          "base_uri": "https://localhost:8080/"
        },
        "id": "g3LwZqGK_NHN",
        "outputId": "4dafcd49-ce19-49e9-e47d-17d747a213f2"
      },
      "outputs": [
        {
          "name": "stdout",
          "output_type": "stream",
          "text": [
            "Requirement already satisfied: PyMuPDF in d:\\coding\\filechat-using-rag\\venv\\lib\\site-packages (1.24.10)\n",
            "Requirement already satisfied: PyMuPDFb==1.24.10 in d:\\coding\\filechat-using-rag\\venv\\lib\\site-packages (from PyMuPDF) (1.24.10)\n"
          ]
        }
      ],
      "source": [
        "!pip install PyMuPDF"
      ]
    },
    {
      "cell_type": "code",
      "execution_count": 4,
      "id": "2fa09df9",
      "metadata": {},
      "outputs": [
        {
          "name": "stdout",
          "output_type": "stream",
          "text": [
            "Requirement already satisfied: spacy in d:\\coding\\filechat-using-rag\\venv\\lib\\site-packages (3.7.6)\n",
            "Requirement already satisfied: spacy-legacy<3.1.0,>=3.0.11 in d:\\coding\\filechat-using-rag\\venv\\lib\\site-packages (from spacy) (3.0.12)\n",
            "Requirement already satisfied: spacy-loggers<2.0.0,>=1.0.0 in d:\\coding\\filechat-using-rag\\venv\\lib\\site-packages (from spacy) (1.0.5)\n",
            "Requirement already satisfied: murmurhash<1.1.0,>=0.28.0 in d:\\coding\\filechat-using-rag\\venv\\lib\\site-packages (from spacy) (1.0.10)\n",
            "Requirement already satisfied: cymem<2.1.0,>=2.0.2 in d:\\coding\\filechat-using-rag\\venv\\lib\\site-packages (from spacy) (2.0.8)\n",
            "Requirement already satisfied: preshed<3.1.0,>=3.0.2 in d:\\coding\\filechat-using-rag\\venv\\lib\\site-packages (from spacy) (3.0.9)\n",
            "Requirement already satisfied: thinc<8.3.0,>=8.2.2 in d:\\coding\\filechat-using-rag\\venv\\lib\\site-packages (from spacy) (8.2.5)\n",
            "Requirement already satisfied: wasabi<1.2.0,>=0.9.1 in d:\\coding\\filechat-using-rag\\venv\\lib\\site-packages (from spacy) (1.1.3)\n",
            "Requirement already satisfied: srsly<3.0.0,>=2.4.3 in d:\\coding\\filechat-using-rag\\venv\\lib\\site-packages (from spacy) (2.4.8)\n",
            "Requirement already satisfied: catalogue<2.1.0,>=2.0.6 in d:\\coding\\filechat-using-rag\\venv\\lib\\site-packages (from spacy) (2.0.10)\n",
            "Requirement already satisfied: weasel<0.5.0,>=0.1.0 in d:\\coding\\filechat-using-rag\\venv\\lib\\site-packages (from spacy) (0.4.1)\n",
            "Requirement already satisfied: typer<1.0.0,>=0.3.0 in d:\\coding\\filechat-using-rag\\venv\\lib\\site-packages (from spacy) (0.12.5)\n",
            "Requirement already satisfied: tqdm<5.0.0,>=4.38.0 in d:\\coding\\filechat-using-rag\\venv\\lib\\site-packages (from spacy) (4.66.5)\n",
            "Requirement already satisfied: requests<3.0.0,>=2.13.0 in d:\\coding\\filechat-using-rag\\venv\\lib\\site-packages (from spacy) (2.32.3)\n",
            "Requirement already satisfied: pydantic!=1.8,!=1.8.1,<3.0.0,>=1.7.4 in d:\\coding\\filechat-using-rag\\venv\\lib\\site-packages (from spacy) (2.9.2)\n",
            "Requirement already satisfied: jinja2 in d:\\coding\\filechat-using-rag\\venv\\lib\\site-packages (from spacy) (3.1.4)\n",
            "Requirement already satisfied: setuptools in d:\\coding\\filechat-using-rag\\venv\\lib\\site-packages (from spacy) (75.1.0)\n",
            "Requirement already satisfied: packaging>=20.0 in d:\\coding\\filechat-using-rag\\venv\\lib\\site-packages (from spacy) (24.1)\n",
            "Requirement already satisfied: langcodes<4.0.0,>=3.2.0 in d:\\coding\\filechat-using-rag\\venv\\lib\\site-packages (from spacy) (3.4.0)\n",
            "Requirement already satisfied: numpy>=1.19.0 in d:\\coding\\filechat-using-rag\\venv\\lib\\site-packages (from spacy) (1.26.4)\n",
            "Requirement already satisfied: language-data>=1.2 in d:\\coding\\filechat-using-rag\\venv\\lib\\site-packages (from langcodes<4.0.0,>=3.2.0->spacy) (1.2.0)\n",
            "Requirement already satisfied: annotated-types>=0.6.0 in d:\\coding\\filechat-using-rag\\venv\\lib\\site-packages (from pydantic!=1.8,!=1.8.1,<3.0.0,>=1.7.4->spacy) (0.7.0)\n",
            "Requirement already satisfied: pydantic-core==2.23.4 in d:\\coding\\filechat-using-rag\\venv\\lib\\site-packages (from pydantic!=1.8,!=1.8.1,<3.0.0,>=1.7.4->spacy) (2.23.4)\n",
            "Requirement already satisfied: typing-extensions>=4.6.1 in d:\\coding\\filechat-using-rag\\venv\\lib\\site-packages (from pydantic!=1.8,!=1.8.1,<3.0.0,>=1.7.4->spacy) (4.12.2)\n",
            "Requirement already satisfied: charset-normalizer<4,>=2 in d:\\coding\\filechat-using-rag\\venv\\lib\\site-packages (from requests<3.0.0,>=2.13.0->spacy) (3.3.2)\n",
            "Requirement already satisfied: idna<4,>=2.5 in d:\\coding\\filechat-using-rag\\venv\\lib\\site-packages (from requests<3.0.0,>=2.13.0->spacy) (3.10)\n",
            "Requirement already satisfied: urllib3<3,>=1.21.1 in d:\\coding\\filechat-using-rag\\venv\\lib\\site-packages (from requests<3.0.0,>=2.13.0->spacy) (2.2.3)\n",
            "Requirement already satisfied: certifi>=2017.4.17 in d:\\coding\\filechat-using-rag\\venv\\lib\\site-packages (from requests<3.0.0,>=2.13.0->spacy) (2024.8.30)\n",
            "Requirement already satisfied: blis<0.8.0,>=0.7.8 in d:\\coding\\filechat-using-rag\\venv\\lib\\site-packages (from thinc<8.3.0,>=8.2.2->spacy) (0.7.11)\n",
            "Requirement already satisfied: confection<1.0.0,>=0.0.1 in d:\\coding\\filechat-using-rag\\venv\\lib\\site-packages (from thinc<8.3.0,>=8.2.2->spacy) (0.1.5)\n",
            "Requirement already satisfied: colorama in d:\\coding\\filechat-using-rag\\venv\\lib\\site-packages (from tqdm<5.0.0,>=4.38.0->spacy) (0.4.6)\n",
            "Requirement already satisfied: click>=8.0.0 in d:\\coding\\filechat-using-rag\\venv\\lib\\site-packages (from typer<1.0.0,>=0.3.0->spacy) (8.1.7)\n",
            "Requirement already satisfied: shellingham>=1.3.0 in d:\\coding\\filechat-using-rag\\venv\\lib\\site-packages (from typer<1.0.0,>=0.3.0->spacy) (1.5.4)\n",
            "Requirement already satisfied: rich>=10.11.0 in d:\\coding\\filechat-using-rag\\venv\\lib\\site-packages (from typer<1.0.0,>=0.3.0->spacy) (13.8.1)\n",
            "Requirement already satisfied: cloudpathlib<1.0.0,>=0.7.0 in d:\\coding\\filechat-using-rag\\venv\\lib\\site-packages (from weasel<0.5.0,>=0.1.0->spacy) (0.19.0)\n",
            "Requirement already satisfied: smart-open<8.0.0,>=5.2.1 in d:\\coding\\filechat-using-rag\\venv\\lib\\site-packages (from weasel<0.5.0,>=0.1.0->spacy) (7.0.4)\n",
            "Requirement already satisfied: MarkupSafe>=2.0 in d:\\coding\\filechat-using-rag\\venv\\lib\\site-packages (from jinja2->spacy) (2.1.5)\n",
            "Requirement already satisfied: marisa-trie>=0.7.7 in d:\\coding\\filechat-using-rag\\venv\\lib\\site-packages (from language-data>=1.2->langcodes<4.0.0,>=3.2.0->spacy) (1.2.0)\n",
            "Requirement already satisfied: markdown-it-py>=2.2.0 in d:\\coding\\filechat-using-rag\\venv\\lib\\site-packages (from rich>=10.11.0->typer<1.0.0,>=0.3.0->spacy) (3.0.0)\n",
            "Requirement already satisfied: pygments<3.0.0,>=2.13.0 in d:\\coding\\filechat-using-rag\\venv\\lib\\site-packages (from rich>=10.11.0->typer<1.0.0,>=0.3.0->spacy) (2.18.0)\n",
            "Requirement already satisfied: wrapt in d:\\coding\\filechat-using-rag\\venv\\lib\\site-packages (from smart-open<8.0.0,>=5.2.1->weasel<0.5.0,>=0.1.0->spacy) (1.16.0)\n",
            "Requirement already satisfied: mdurl~=0.1 in d:\\coding\\filechat-using-rag\\venv\\lib\\site-packages (from markdown-it-py>=2.2.0->rich>=10.11.0->typer<1.0.0,>=0.3.0->spacy) (0.1.2)\n"
          ]
        }
      ],
      "source": [
        "!pip install spacy"
      ]
    },
    {
      "cell_type": "code",
      "execution_count": 5,
      "id": "lgWpPeHe4gf-",
      "metadata": {
        "colab": {
          "base_uri": "https://localhost:8080/",
          "height": 49,
          "referenced_widgets": [
            "f28627cdf71d41e5bbabc9d971dc7959",
            "bf3e16a6c2cb41bcbc53859df9652bba",
            "95b3ddaae76d4b4bb739209972932049",
            "58b6f82bfe344deb8b9f6d297296a360",
            "943921e9d4dc44a8822e852bb0c7fa69",
            "3ecf5dc31fab473db48d5f12cd9cf59b",
            "a3d813885d9d43e99e431c6da08a47f2",
            "2f4d32b2c8a14b08abea98ae6e2449b5",
            "2037640e59704ff6b6831a6218034f6f",
            "e74d1bd6172549a68eea5b5db6d02b88",
            "0aaa15e598d645298997ad3ec60160b2"
          ]
        },
        "id": "lgWpPeHe4gf-",
        "outputId": "0fd381c5-558b-4d1b-b678-342ba2c0e8ac"
      },
      "outputs": [
        {
          "name": "stderr",
          "output_type": "stream",
          "text": [
            "d:\\Coding\\FileChat-Using-RAG\\venv\\Lib\\site-packages\\tqdm\\auto.py:21: TqdmWarning: IProgress not found. Please update jupyter and ipywidgets. See https://ipywidgets.readthedocs.io/en/stable/user_install.html\n",
            "  from .autonotebook import tqdm as notebook_tqdm\n",
            "1208it [00:04, 265.74it/s]\n"
          ]
        }
      ],
      "source": [
        "import fitz  # PyMuPDF !pip install pymupdf\n",
        "from tqdm.auto import tqdm\n",
        "\n",
        "def text_formatter(text:str)->str:\n",
        "    \"\"\"perform basic text preprocessing. \"\"\"\n",
        "\n",
        "    cleaned_text = text.replace(\"\\n\", \" \").strip()\n",
        "\n",
        "    return cleaned_text\n",
        "\n",
        "\n",
        "def open_and_read_pdf(pdf_name:str)->list[dict]:\n",
        "    doc = fitz.open(pdf_name)\n",
        "    pages_and_textx = []\n",
        "\n",
        "    for page_no,page in tqdm(enumerate(doc)):\n",
        "        text = page.get_text()\n",
        "        text = text_formatter(text)\n",
        "        pages_and_textx.append({\n",
        "            \"page_number\" : page_no+1,\n",
        "            \"page_char_count\" : len(text),\n",
        "            \"page_word_count\" : len(text.split()),\n",
        "            \"page_sentence_count_raw\" : len(text.split(\". \")),\n",
        "            \"page_token_count\" : len(text)/4,\n",
        "            \"text\" : text\n",
        "            })\n",
        "    return pages_and_textx\n",
        "\n",
        "pages_and_texts = open_and_read_pdf(pdf_name)"
      ]
    },
    {
      "cell_type": "code",
      "execution_count": 6,
      "id": "wrsvo_pB_ZFC",
      "metadata": {
        "colab": {
          "base_uri": "https://localhost:8080/"
        },
        "id": "wrsvo_pB_ZFC",
        "outputId": "54c6d63f-3091-4c6e-8d3f-f661f3a11bf2"
      },
      "outputs": [
        {
          "data": {
            "text/plain": [
              "[{'page_number': 265,\n",
              "  'page_char_count': 2161,\n",
              "  'page_word_count': 330,\n",
              "  'page_sentence_count_raw': 18,\n",
              "  'page_token_count': 540.25,\n",
              "  'text': 'drinking sports drinks instead of plain water enhances endurance  or performance in individuals exercising less than one hour and at  low to moderate intensities. A well-concocted sports drink contains  sugar, water, and sodium in the correct proportions so that  hydration is optimized. The sugar is helpful in maintaining blood- glucose levels needed to fuel muscles, the water keeps an athlete  hydrated, and the sodium enhances fluid absorption and replaces  some of that lost in sweat. The American College of Sports Medicine  states that the goal of drinking fluids during exercise is to prevent  dehydration, which compromises performance and endurance.  The primary source of water loss during intense physical activity  is sweat. Perspiration rates are variable and dependent on many  factors including body composition, humidity, temperature, and  type of exercise. The hydration goal for obtaining optimal  endurance and performance is to replace what is lost, not to over- hydrate. A person’s sweating rate can be approximated by  measuring weight before and after exercise—the difference in  weight will be the amount of water weight you lost.  The primary electrolyte lost in sweat is sodium. One liter of sweat  can contain between 1,000–2,000 milligrams of sodium. Potassium,  magnesium, and calcium are also lost, but in much lower amounts. If  you are exercising at high intensity for greater than ninety minutes,  it is important to replace sodium as well as water. This can be partly  accomplished by consuming a sports drink. The highest content of  sodium in commercial sports drinks is approximately 450 milligrams  per liter and thus will not replace all lost sodium unless a person  drinks several liters. This is NOT recommended, as water  intoxication not only compromises performance, but may also be  deadly. The sodium in sports drinks enhances fluid absorption so  that rehydration is more efficiently accomplished. If you are not  exercising for more than ninety minutes at a high intensity, dietary  intake of sodium and other electrolytes should be sufficient for  replacing lost electrolytes.  Popular Beverage Choices  |  223'},\n",
              " {'page_number': 454,\n",
              "  'page_char_count': 1551,\n",
              "  'page_word_count': 231,\n",
              "  'page_sentence_count_raw': 15,\n",
              "  'page_token_count': 387.75,\n",
              "  'text': 'Simply put, different protein sources differ in their additional  components, so it is necessary to pay attention to the whole  nutrient “package.” Protein-rich animal-based foods commonly  have high amounts of B vitamins, vitamin E, iron, magnesium, and  zinc. Seafood often contains healthy fats, and plant sources of  protein contain a high amount of fiber. Some animal-based protein- rich foods have an unhealthy amount of saturated fat and  cholesterol. When choosing your dietary sources of protein, take  note of the other nutrients and also the non-nutrients, such as  cholesterol, dyes, and preservatives, in order to make good  selections that will benefit your health. For instance, a hamburger  patty made from 80 percent lean meat contains 22 grams of protein,  5.7 grams of saturated fat, and 77 milligrams of cholesterol. A burger  made from 95 percent lean meat also contains 22 grams of protein,  but has 2.3 grams of saturated fat and 60 milligrams of cholesterol.  A cup of boiled soybeans contains 29 grams of protein, 2.2 grams of  saturated fat, and no cholesterol. For more comparisons of protein- rich foods, see Table 6.3 “Sources of Dietary Protein”. To find out  the complete nutrient package of different foods, visit the US  Department of Agriculture (USDA) Food Composition Databases.  Table 6.3 Sources of Dietary Protein  Health. The Nutrition Source.  http://www.hsph.harvard.edu/nutritionsource/what- should-you-eat/protein/. Published 2012. Accessed  September 30, 2017.  412  |  Proteins, Diet, and Personal Choices'},\n",
              " {'page_number': 856,\n",
              "  'page_char_count': 1844,\n",
              "  'page_word_count': 288,\n",
              "  'page_sentence_count_raw': 21,\n",
              "  'page_token_count': 461.0,\n",
              "  'text': 'of eight weeks. The anterior fontanel closes about a year later,  at eighteen months on average. Developmental milestones include  sitting up without support, learning to walk, teething, and vocalizing  among many, many others. All of these changes require adequate  nutrition to ensure development at the appropriate rate.8  Healthy infants grow steadily, but not always at an even pace. For  example, during the first year of life, height increases by 50 percent,  while weight triples. Physicians and other health professionals use  growth charts to track a baby’s development process. Because  infants cannot stand, length is used instead of height to determine  the rate of a child’s growth. Other important developmental  measurements include head circumference and weight. All of these  must be tracked and compared against standard measurements for  an infant’s age.  In the US, for infants and toddlers from birth to 24 months of  age, the WHO growth charts are used to monitor growth. These  standards represent optimal growth for children at this age and  allow for tracking growth trends over time through percentile  rankings. Growth charts may provide warnings that a child has a  medical problem or is malnourished. Growth that is too rapid can  increase the risk for overweight and obesity in childhood and later  in life. Insufficient weight or height gain during infancy may indicate  a condition known as failure-to-thrive (FTT), which is characterized  by poor growth. FTT can happen at any age, but in infancy, it  typically occurs after six months. Some causes include poverty, lack  of enough food, feeding inappropriate foods, and excessive intake of  fruit juice.  Figure 13.4 WHO Growth Chart For Boys From Birth To 24 Months  8.\\xa0McMillan B. (2008). \\xa0Illustrated atlas of the human body.  Weldon Owen.  814  |  Infancy'}]"
            ]
          },
          "execution_count": 6,
          "metadata": {},
          "output_type": "execute_result"
        }
      ],
      "source": [
        "import random\n",
        "\n",
        "random.sample(pages_and_texts,k=3)"
      ]
    },
    {
      "cell_type": "code",
      "execution_count": 7,
      "id": "oBRVXa1hBR_w",
      "metadata": {
        "colab": {
          "base_uri": "https://localhost:8080/",
          "height": 469
        },
        "id": "oBRVXa1hBR_w",
        "outputId": "e2337459-eb61-4650-c9f0-85026b47d702"
      },
      "outputs": [
        {
          "data": {
            "text/html": [
              "<div>\n",
              "<style scoped>\n",
              "    .dataframe tbody tr th:only-of-type {\n",
              "        vertical-align: middle;\n",
              "    }\n",
              "\n",
              "    .dataframe tbody tr th {\n",
              "        vertical-align: top;\n",
              "    }\n",
              "\n",
              "    .dataframe thead th {\n",
              "        text-align: right;\n",
              "    }\n",
              "</style>\n",
              "<table border=\"1\" class=\"dataframe\">\n",
              "  <thead>\n",
              "    <tr style=\"text-align: right;\">\n",
              "      <th></th>\n",
              "      <th>page_number</th>\n",
              "      <th>page_char_count</th>\n",
              "      <th>page_word_count</th>\n",
              "      <th>page_sentence_count_raw</th>\n",
              "      <th>page_token_count</th>\n",
              "      <th>text</th>\n",
              "    </tr>\n",
              "  </thead>\n",
              "  <tbody>\n",
              "    <tr>\n",
              "      <th>0</th>\n",
              "      <td>1</td>\n",
              "      <td>29</td>\n",
              "      <td>4</td>\n",
              "      <td>1</td>\n",
              "      <td>7.25</td>\n",
              "      <td>Human Nutrition: 2020 Edition</td>\n",
              "    </tr>\n",
              "    <tr>\n",
              "      <th>1</th>\n",
              "      <td>2</td>\n",
              "      <td>0</td>\n",
              "      <td>0</td>\n",
              "      <td>1</td>\n",
              "      <td>0.00</td>\n",
              "      <td></td>\n",
              "    </tr>\n",
              "    <tr>\n",
              "      <th>2</th>\n",
              "      <td>3</td>\n",
              "      <td>320</td>\n",
              "      <td>42</td>\n",
              "      <td>1</td>\n",
              "      <td>80.00</td>\n",
              "      <td>Human Nutrition: 2020  Edition  UNIVERSITY OF ...</td>\n",
              "    </tr>\n",
              "    <tr>\n",
              "      <th>3</th>\n",
              "      <td>4</td>\n",
              "      <td>212</td>\n",
              "      <td>30</td>\n",
              "      <td>1</td>\n",
              "      <td>53.00</td>\n",
              "      <td>Human Nutrition: 2020 Edition by University of...</td>\n",
              "    </tr>\n",
              "    <tr>\n",
              "      <th>4</th>\n",
              "      <td>5</td>\n",
              "      <td>797</td>\n",
              "      <td>116</td>\n",
              "      <td>2</td>\n",
              "      <td>199.25</td>\n",
              "      <td>Contents  Preface  University of Hawai‘i at Mā...</td>\n",
              "    </tr>\n",
              "  </tbody>\n",
              "</table>\n",
              "</div>"
            ],
            "text/plain": [
              "   page_number  page_char_count  page_word_count  page_sentence_count_raw  \\\n",
              "0            1               29                4                        1   \n",
              "1            2                0                0                        1   \n",
              "2            3              320               42                        1   \n",
              "3            4              212               30                        1   \n",
              "4            5              797              116                        2   \n",
              "\n",
              "   page_token_count                                               text  \n",
              "0              7.25                      Human Nutrition: 2020 Edition  \n",
              "1              0.00                                                     \n",
              "2             80.00  Human Nutrition: 2020  Edition  UNIVERSITY OF ...  \n",
              "3             53.00  Human Nutrition: 2020 Edition by University of...  \n",
              "4            199.25  Contents  Preface  University of Hawai‘i at Mā...  "
            ]
          },
          "execution_count": 7,
          "metadata": {},
          "output_type": "execute_result"
        }
      ],
      "source": [
        "import pandas as pd\n",
        "\n",
        "df = pd.DataFrame(pages_and_texts)\n",
        "df.head()"
      ]
    },
    {
      "cell_type": "code",
      "execution_count": 8,
      "id": "r5VmASHWBaMN",
      "metadata": {
        "colab": {
          "base_uri": "https://localhost:8080/",
          "height": 320
        },
        "id": "r5VmASHWBaMN",
        "outputId": "0f8678d7-32f7-4da5-a17e-0f32d2a87664"
      },
      "outputs": [
        {
          "data": {
            "text/html": [
              "<div>\n",
              "<style scoped>\n",
              "    .dataframe tbody tr th:only-of-type {\n",
              "        vertical-align: middle;\n",
              "    }\n",
              "\n",
              "    .dataframe tbody tr th {\n",
              "        vertical-align: top;\n",
              "    }\n",
              "\n",
              "    .dataframe thead th {\n",
              "        text-align: right;\n",
              "    }\n",
              "</style>\n",
              "<table border=\"1\" class=\"dataframe\">\n",
              "  <thead>\n",
              "    <tr style=\"text-align: right;\">\n",
              "      <th></th>\n",
              "      <th>page_number</th>\n",
              "      <th>page_char_count</th>\n",
              "      <th>page_word_count</th>\n",
              "      <th>page_sentence_count_raw</th>\n",
              "      <th>page_token_count</th>\n",
              "    </tr>\n",
              "  </thead>\n",
              "  <tbody>\n",
              "    <tr>\n",
              "      <th>count</th>\n",
              "      <td>1208.00000</td>\n",
              "      <td>1208.000000</td>\n",
              "      <td>1208.000000</td>\n",
              "      <td>1208.000000</td>\n",
              "      <td>1208.000000</td>\n",
              "    </tr>\n",
              "    <tr>\n",
              "      <th>mean</th>\n",
              "      <td>604.50000</td>\n",
              "      <td>1148.004139</td>\n",
              "      <td>171.966060</td>\n",
              "      <td>9.972682</td>\n",
              "      <td>287.001035</td>\n",
              "    </tr>\n",
              "    <tr>\n",
              "      <th>std</th>\n",
              "      <td>348.86387</td>\n",
              "      <td>560.382275</td>\n",
              "      <td>86.491465</td>\n",
              "      <td>6.187226</td>\n",
              "      <td>140.095569</td>\n",
              "    </tr>\n",
              "    <tr>\n",
              "      <th>min</th>\n",
              "      <td>1.00000</td>\n",
              "      <td>0.000000</td>\n",
              "      <td>0.000000</td>\n",
              "      <td>1.000000</td>\n",
              "      <td>0.000000</td>\n",
              "    </tr>\n",
              "    <tr>\n",
              "      <th>25%</th>\n",
              "      <td>302.75000</td>\n",
              "      <td>762.000000</td>\n",
              "      <td>109.000000</td>\n",
              "      <td>4.000000</td>\n",
              "      <td>190.500000</td>\n",
              "    </tr>\n",
              "    <tr>\n",
              "      <th>50%</th>\n",
              "      <td>604.50000</td>\n",
              "      <td>1231.500000</td>\n",
              "      <td>183.000000</td>\n",
              "      <td>10.000000</td>\n",
              "      <td>307.875000</td>\n",
              "    </tr>\n",
              "    <tr>\n",
              "      <th>75%</th>\n",
              "      <td>906.25000</td>\n",
              "      <td>1603.500000</td>\n",
              "      <td>239.000000</td>\n",
              "      <td>14.000000</td>\n",
              "      <td>400.875000</td>\n",
              "    </tr>\n",
              "    <tr>\n",
              "      <th>max</th>\n",
              "      <td>1208.00000</td>\n",
              "      <td>2308.000000</td>\n",
              "      <td>393.000000</td>\n",
              "      <td>32.000000</td>\n",
              "      <td>577.000000</td>\n",
              "    </tr>\n",
              "  </tbody>\n",
              "</table>\n",
              "</div>"
            ],
            "text/plain": [
              "       page_number  page_char_count  page_word_count  page_sentence_count_raw  \\\n",
              "count   1208.00000      1208.000000      1208.000000              1208.000000   \n",
              "mean     604.50000      1148.004139       171.966060                 9.972682   \n",
              "std      348.86387       560.382275        86.491465                 6.187226   \n",
              "min        1.00000         0.000000         0.000000                 1.000000   \n",
              "25%      302.75000       762.000000       109.000000                 4.000000   \n",
              "50%      604.50000      1231.500000       183.000000                10.000000   \n",
              "75%      906.25000      1603.500000       239.000000                14.000000   \n",
              "max     1208.00000      2308.000000       393.000000                32.000000   \n",
              "\n",
              "       page_token_count  \n",
              "count       1208.000000  \n",
              "mean         287.001035  \n",
              "std          140.095569  \n",
              "min            0.000000  \n",
              "25%          190.500000  \n",
              "50%          307.875000  \n",
              "75%          400.875000  \n",
              "max          577.000000  "
            ]
          },
          "execution_count": 8,
          "metadata": {},
          "output_type": "execute_result"
        }
      ],
      "source": [
        "df.describe()"
      ]
    },
    {
      "cell_type": "markdown",
      "id": "DyswfvU4Bz_J",
      "metadata": {
        "id": "DyswfvU4Bz_J"
      },
      "source": [
        "Why we need token Count?\n",
        "\n",
        "1. Embeding Model don't deal with infinite tokens.\n",
        "2. LLMs don't deal with lnfinite tokens."
      ]
    },
    {
      "cell_type": "markdown",
      "id": "ytZw4ZTBDV6-",
      "metadata": {
        "id": "ytZw4ZTBDV6-"
      },
      "source": [
        "# Splitting Pages into sentences\n",
        "\n",
        "Two days to do this\n",
        "1. split by `\". \"` OR `\".\\n\"`\n",
        "2. Use NLP like spaCy or NLTK"
      ]
    },
    {
      "cell_type": "code",
      "execution_count": 9,
      "id": "dDU-AMkHCodp",
      "metadata": {
        "id": "dDU-AMkHCodp"
      },
      "outputs": [],
      "source": [
        "from spacy.lang.en import English \n",
        "\n",
        "nlp = English()\n",
        "\n",
        "# add a sentencilizer pipeline \n",
        "nlp.add_pipe(\"sentencizer\")\n",
        "\n",
        "# create a document example\n",
        "doc = nlp(\"THis is sentence1. I like cats\")\n",
        "\n",
        "list(doc.sents)"
      ]
    },
    {
      "cell_type": "code",
      "execution_count": 14,
      "id": "0e94eaec",
      "metadata": {},
      "outputs": [
        {
          "data": {
            "text/plain": [
              "{'page_number': 601,\n",
              " 'page_char_count': 863,\n",
              " 'page_word_count': 117,\n",
              " 'page_sentence_count_raw': 8,\n",
              " 'page_token_count': 215.75,\n",
              " 'text': 'Image by  Allison  Calabrese /  CC BY 4.0  Korsakoff syndrome can cause similar symptoms as beriberi such  as confusion, loss of coordination, vision changes, hallucinations,  and may progress to coma and death. This condition is specific  to alcoholics as diets high in alcohol can cause thiamin deficiency.  Other individuals at risk include individuals who also consume diets  typically low in micronutrients such as those with eating disorders,  elderly, and individuals who have gone through gastric bypass  surgery.5  Figure 9.10 The Role of Thiamin  Figure 9.11 Beriberi, Thiamin Deficiency  5.\\xa0Fact Sheets for Health Professionals: Thiamin. National  Institute of Health, Office of Dietary Supplements.  \\xa0https://ods.od.nih.gov/factsheets/Thiamin- HealthProfessional/. Updated Feburary 11, 2016.  Accessed October 22, 2017.  Water-Soluble Vitamins  |  559'}"
            ]
          },
          "execution_count": 14,
          "metadata": {},
          "output_type": "execute_result"
        }
      ],
      "source": [
        "pages_and_texts[600]"
      ]
    },
    {
      "cell_type": "code",
      "execution_count": 16,
      "id": "2fa138f6",
      "metadata": {},
      "outputs": [
        {
          "name": "stderr",
          "output_type": "stream",
          "text": [
            "100%|██████████| 1208/1208 [00:06<00:00, 183.88it/s]\n"
          ]
        }
      ],
      "source": [
        "from tqdm import tqdm\n",
        "\n",
        "for page in tqdm(pages_and_texts):\n",
        "    page[\"sentences\"] = [str(sent) for sent in nlp(page['text']).sents]\n",
        "    \n",
        "    page[\"page_sentence_count\"] = len(page[\"sentences\"])"
      ]
    },
    {
      "cell_type": "code",
      "execution_count": 20,
      "id": "bb4b59e1",
      "metadata": {},
      "outputs": [
        {
          "data": {
            "text/plain": [
              "{'page_number': 104,\n",
              " 'page_char_count': 1693,\n",
              " 'page_word_count': 264,\n",
              " 'page_sentence_count_raw': 13,\n",
              " 'page_token_count': 423.25,\n",
              " 'text': 'Basic Biology, Anatomy, and  Physiology  UNIVERSITY OF HAWAI‘I AT MĀNOA FOOD SCIENCE AND HUMAN  NUTRITION PROGRAM AND HUMAN NUTRITION PROGRAM  The Basic Structural and Functional Unit of Life:  The Cell  What distinguishes a living\\xa0organism from an inanimate object? A  living organism conducts self-sustaining biological processes. A cell  is the smallest and most basic form of life.  The cell theory incorporates three principles:  Cells are the most basic building units of life.\\xa0All living things  are composed of cells. New cells are made from preexisting cells,  which divide in two. Who you are has been determined because  of two cells that came together inside your mother’s womb. The  two cells containing all of your genetic information (DNA) united to  begin making new life. Cells divided and differentiated into other  cells with specific roles that led to the formation of the body’s  numerous body organs, systems, blood, blood vessels, bone, tissue,  and skin. As an adult, you are made up of trillions of cells. Each of  your individual cells is a compact and efficient form of life—self- sufficient, yet interdependent upon the other cells within your body  to supply its needs.  Independent single-celled organisms must conduct all the basic  processes of life.\\xa0The single-celled organism must take in nutrients  (energy capture), excrete wastes, detect and respond to its  environment, move, breathe, grow, and reproduce. Even a one- celled organism must be organized to perform these essential  processes. All cells are organized from the atomic level to all its  larger forms. Oxygen and hydrogen atoms combine to make the  62  |  Basic Biology, Anatomy, and Physiology',\n",
              " 'sentences': ['Basic Biology, Anatomy, and  Physiology  UNIVERSITY OF HAWAI‘I AT MĀNOA FOOD SCIENCE AND HUMAN  NUTRITION PROGRAM AND HUMAN NUTRITION PROGRAM  The Basic Structural and Functional Unit of Life:  The Cell  What distinguishes a living\\xa0organism from an inanimate object?',\n",
              "  'A  living organism conducts self-sustaining biological processes.',\n",
              "  'A cell  is the smallest and most basic form of life.',\n",
              "  ' The cell theory incorporates three principles:  Cells are the most basic building units of life.',\n",
              "  '\\xa0All living things  are composed of cells.',\n",
              "  'New cells are made from preexisting cells,  which divide in two.',\n",
              "  'Who you are has been determined because  of two cells that came together inside your mother’s womb.',\n",
              "  'The  two cells containing all of your genetic information (DNA) united to  begin making new life.',\n",
              "  'Cells divided and differentiated into other  cells with specific roles that led to the formation of the body’s  numerous body organs, systems, blood, blood vessels, bone, tissue,  and skin.',\n",
              "  'As an adult, you are made up of trillions of cells.',\n",
              "  'Each of  your individual cells is a compact and efficient form of life—self- sufficient, yet interdependent upon the other cells within your body  to supply its needs.',\n",
              "  ' Independent single-celled organisms must conduct all the basic  processes of life.',\n",
              "  '\\xa0The single-celled organism must take in nutrients  (energy capture), excrete wastes, detect and respond to its  environment, move, breathe, grow, and reproduce.',\n",
              "  'Even a one- celled organism must be organized to perform these essential  processes.',\n",
              "  'All cells are organized from the atomic level to all its  larger forms.',\n",
              "  'Oxygen and hydrogen atoms combine to make the  62  |  Basic Biology, Anatomy, and Physiology'],\n",
              " 'page_sentence_count': 16}"
            ]
          },
          "execution_count": 20,
          "metadata": {},
          "output_type": "execute_result"
        }
      ],
      "source": [
        "pages_and_texts[103]"
      ]
    },
    {
      "cell_type": "code",
      "execution_count": 21,
      "id": "1f6c2b60",
      "metadata": {},
      "outputs": [
        {
          "data": {
            "text/html": [
              "<div>\n",
              "<style scoped>\n",
              "    .dataframe tbody tr th:only-of-type {\n",
              "        vertical-align: middle;\n",
              "    }\n",
              "\n",
              "    .dataframe tbody tr th {\n",
              "        vertical-align: top;\n",
              "    }\n",
              "\n",
              "    .dataframe thead th {\n",
              "        text-align: right;\n",
              "    }\n",
              "</style>\n",
              "<table border=\"1\" class=\"dataframe\">\n",
              "  <thead>\n",
              "    <tr style=\"text-align: right;\">\n",
              "      <th></th>\n",
              "      <th>page_number</th>\n",
              "      <th>page_char_count</th>\n",
              "      <th>page_word_count</th>\n",
              "      <th>page_sentence_count_raw</th>\n",
              "      <th>page_token_count</th>\n",
              "      <th>page_sentence_count</th>\n",
              "    </tr>\n",
              "  </thead>\n",
              "  <tbody>\n",
              "    <tr>\n",
              "      <th>count</th>\n",
              "      <td>1208.00000</td>\n",
              "      <td>1208.000000</td>\n",
              "      <td>1208.000000</td>\n",
              "      <td>1208.000000</td>\n",
              "      <td>1208.000000</td>\n",
              "      <td>1208.000000</td>\n",
              "    </tr>\n",
              "    <tr>\n",
              "      <th>mean</th>\n",
              "      <td>604.50000</td>\n",
              "      <td>1148.004139</td>\n",
              "      <td>171.966060</td>\n",
              "      <td>9.972682</td>\n",
              "      <td>287.001035</td>\n",
              "      <td>10.319536</td>\n",
              "    </tr>\n",
              "    <tr>\n",
              "      <th>std</th>\n",
              "      <td>348.86387</td>\n",
              "      <td>560.382275</td>\n",
              "      <td>86.491465</td>\n",
              "      <td>6.187226</td>\n",
              "      <td>140.095569</td>\n",
              "      <td>6.300843</td>\n",
              "    </tr>\n",
              "    <tr>\n",
              "      <th>min</th>\n",
              "      <td>1.00000</td>\n",
              "      <td>0.000000</td>\n",
              "      <td>0.000000</td>\n",
              "      <td>1.000000</td>\n",
              "      <td>0.000000</td>\n",
              "      <td>0.000000</td>\n",
              "    </tr>\n",
              "    <tr>\n",
              "      <th>25%</th>\n",
              "      <td>302.75000</td>\n",
              "      <td>762.000000</td>\n",
              "      <td>109.000000</td>\n",
              "      <td>4.000000</td>\n",
              "      <td>190.500000</td>\n",
              "      <td>5.000000</td>\n",
              "    </tr>\n",
              "    <tr>\n",
              "      <th>50%</th>\n",
              "      <td>604.50000</td>\n",
              "      <td>1231.500000</td>\n",
              "      <td>183.000000</td>\n",
              "      <td>10.000000</td>\n",
              "      <td>307.875000</td>\n",
              "      <td>10.000000</td>\n",
              "    </tr>\n",
              "    <tr>\n",
              "      <th>75%</th>\n",
              "      <td>906.25000</td>\n",
              "      <td>1603.500000</td>\n",
              "      <td>239.000000</td>\n",
              "      <td>14.000000</td>\n",
              "      <td>400.875000</td>\n",
              "      <td>15.000000</td>\n",
              "    </tr>\n",
              "    <tr>\n",
              "      <th>max</th>\n",
              "      <td>1208.00000</td>\n",
              "      <td>2308.000000</td>\n",
              "      <td>393.000000</td>\n",
              "      <td>32.000000</td>\n",
              "      <td>577.000000</td>\n",
              "      <td>28.000000</td>\n",
              "    </tr>\n",
              "  </tbody>\n",
              "</table>\n",
              "</div>"
            ],
            "text/plain": [
              "       page_number  page_char_count  page_word_count  page_sentence_count_raw  \\\n",
              "count   1208.00000      1208.000000      1208.000000              1208.000000   \n",
              "mean     604.50000      1148.004139       171.966060                 9.972682   \n",
              "std      348.86387       560.382275        86.491465                 6.187226   \n",
              "min        1.00000         0.000000         0.000000                 1.000000   \n",
              "25%      302.75000       762.000000       109.000000                 4.000000   \n",
              "50%      604.50000      1231.500000       183.000000                10.000000   \n",
              "75%      906.25000      1603.500000       239.000000                14.000000   \n",
              "max     1208.00000      2308.000000       393.000000                32.000000   \n",
              "\n",
              "       page_token_count  page_sentence_count  \n",
              "count       1208.000000          1208.000000  \n",
              "mean         287.001035            10.319536  \n",
              "std          140.095569             6.300843  \n",
              "min            0.000000             0.000000  \n",
              "25%          190.500000             5.000000  \n",
              "50%          307.875000            10.000000  \n",
              "75%          400.875000            15.000000  \n",
              "max          577.000000            28.000000  "
            ]
          },
          "execution_count": 21,
          "metadata": {},
          "output_type": "execute_result"
        }
      ],
      "source": [
        "df = pd.DataFrame(pages_and_texts)\n",
        "df.describe()"
      ]
    },
    {
      "cell_type": "markdown",
      "id": "87744b21",
      "metadata": {},
      "source": [
        "## Chunking the sentences together\n",
        "\n",
        "here we are getting in 10 sentences at a time.\n",
        "\n",
        "Framework like langchain can do this task easily.\n",
        "\n",
        "## Need of Chunking\n",
        "1. makes easy to filter \n",
        "2. context of embedding model \n",
        "2. context of llm"
      ]
    },
    {
      "cell_type": "code",
      "execution_count": 23,
      "id": "1ed65877",
      "metadata": {},
      "outputs": [
        {
          "name": "stdout",
          "output_type": "stream",
          "text": [
            "[1, 2, 3, 4, 5, 6, 7, 8, 9, 10, 11, 12, 13, 14, 15, 16, 17, 18, 19, 20, 21, 22, 23, 24, 25]\n"
          ]
        },
        {
          "data": {
            "text/plain": [
              "[[1, 2, 3, 4, 5, 6, 7, 8, 9, 10],\n",
              " [11, 12, 13, 14, 15, 16, 17, 18, 19, 20],\n",
              " [21, 22, 23, 24, 25]]"
            ]
          },
          "execution_count": 23,
          "metadata": {},
          "output_type": "execute_result"
        }
      ],
      "source": [
        "# define number of sentences chunk\n",
        "sentences_chunk_size = 10\n",
        "\n",
        "# actual function to split list of sentences to list of list of size <= 10 of sentences\n",
        "\n",
        "def split_sentence_chunk(sentence_list:list[str],size_chunk:int = sentences_chunk_size) -> list[list[str]]:\n",
        "    return [sentence_list[i:i + size_chunk] for i in range(0,len(sentence_list),size_chunk)]\n",
        "\n",
        "test  = list(range(1,26))\n",
        "print(test)\n",
        "split_sentence_chunk(test)"
      ]
    },
    {
      "cell_type": "code",
      "execution_count": 24,
      "id": "b6f39ece",
      "metadata": {},
      "outputs": [
        {
          "name": "stderr",
          "output_type": "stream",
          "text": [
            "100%|██████████| 1208/1208 [00:00<00:00, 4013.06it/s]\n"
          ]
        }
      ],
      "source": [
        "# make chunks of original data\n",
        "for item in tqdm(pages_and_texts):\n",
        "    item[\"sentence_chunks\"] = split_sentence_chunk(item[\"sentences\"],sentences_chunk_size)\n",
        "    item[\"chunk_count\"] = len(item[\"sentence_chunks\"])"
      ]
    },
    {
      "cell_type": "code",
      "execution_count": 26,
      "id": "b674a2da",
      "metadata": {},
      "outputs": [
        {
          "data": {
            "text/plain": [
              "[{'page_number': 580,\n",
              "  'page_char_count': 1444,\n",
              "  'page_word_count': 207,\n",
              "  'page_sentence_count_raw': 12,\n",
              "  'page_token_count': 361.0,\n",
              "  'text': 'Cardiovascular Disease  Vitamin E reduces the oxidation of LDLs, and it was therefore  hypothesized that vitamin E supplements would protect against  atherosclerosis. However, large clinical trials have not consistently  found evidence to support this hypothesis. In fact, in the “Women’s  Angiographic Vitamin and Estrogen Study,” postmenopausal women  who took 400 international units (264 milligrams) of vitamin E and  500 milligrams of vitamin C twice per day had higher death rates  from all causes.7  Other studies have not confirmed the association between  increased vitamin E intake from supplements and increased  mortality. There is more consistent evidence from observational  studies that a higher intake of vitamin E from foods is linked to a  decreased risk of dying from a heart attack.  Cancer  The large clinical trials that evaluated whether there was a link  between vitamin E and cardiovascular disease risk also looked at  cancer risk. These trials, called the HOPE-TOO Trial and Women’s  Health Study, did not find that vitamin E at doses of 400  7.\\xa0Waters DD, et al. (2002). Effects of Hormone  Replacement Therapy and Antioxidant Vitamin  Supplements on Coronary Atherosclerosis in  Postmenopausal Women: A Randomized Controlled Trial.  The\\xa0Journal of the American Medical Association,\\xa0288(19),  2432–40. https://jamanetwork.com/journals/jama/ fullarticle/195531. Accessed October 5, 2017.  538  |  Fat-Soluble Vitamins',\n",
              "  'sentences': ['Cardiovascular Disease  Vitamin E reduces the oxidation of LDLs, and it was therefore  hypothesized that vitamin E supplements would protect against  atherosclerosis.',\n",
              "   'However, large clinical trials have not consistently  found evidence to support this hypothesis.',\n",
              "   'In fact, in the “Women’s  Angiographic Vitamin and Estrogen Study,” postmenopausal women  who took 400 international units (264 milligrams) of vitamin E and  500 milligrams of vitamin C twice per day had higher death rates  from all causes.7  Other studies have not confirmed the association between  increased vitamin E intake from supplements and increased  mortality.',\n",
              "   'There is more consistent evidence from observational  studies that a higher intake of vitamin E from foods is linked to a  decreased risk of dying from a heart attack.',\n",
              "   ' Cancer  The large clinical trials that evaluated whether there was a link  between vitamin E and cardiovascular disease risk also looked at  cancer risk.',\n",
              "   'These trials, called the HOPE-TOO Trial and Women’s  Health Study, did not find that vitamin E at doses of 400  7.',\n",
              "   '\\xa0Waters DD, et al. (',\n",
              "   '2002).',\n",
              "   'Effects of Hormone  Replacement Therapy and Antioxidant Vitamin  Supplements on Coronary Atherosclerosis in  Postmenopausal Women: A Randomized Controlled Trial.',\n",
              "   ' The\\xa0Journal of the American Medical Association,\\xa0288(19),  2432–40.',\n",
              "   'https://jamanetwork.com/journals/jama/ fullarticle/195531.',\n",
              "   'Accessed October 5, 2017.',\n",
              "   ' 538  |  Fat-Soluble Vitamins'],\n",
              "  'page_sentence_count': 13,\n",
              "  'sentence_chunks': [['Cardiovascular Disease  Vitamin E reduces the oxidation of LDLs, and it was therefore  hypothesized that vitamin E supplements would protect against  atherosclerosis.',\n",
              "    'However, large clinical trials have not consistently  found evidence to support this hypothesis.',\n",
              "    'In fact, in the “Women’s  Angiographic Vitamin and Estrogen Study,” postmenopausal women  who took 400 international units (264 milligrams) of vitamin E and  500 milligrams of vitamin C twice per day had higher death rates  from all causes.7  Other studies have not confirmed the association between  increased vitamin E intake from supplements and increased  mortality.',\n",
              "    'There is more consistent evidence from observational  studies that a higher intake of vitamin E from foods is linked to a  decreased risk of dying from a heart attack.',\n",
              "    ' Cancer  The large clinical trials that evaluated whether there was a link  between vitamin E and cardiovascular disease risk also looked at  cancer risk.',\n",
              "    'These trials, called the HOPE-TOO Trial and Women’s  Health Study, did not find that vitamin E at doses of 400  7.',\n",
              "    '\\xa0Waters DD, et al. (',\n",
              "    '2002).',\n",
              "    'Effects of Hormone  Replacement Therapy and Antioxidant Vitamin  Supplements on Coronary Atherosclerosis in  Postmenopausal Women: A Randomized Controlled Trial.',\n",
              "    ' The\\xa0Journal of the American Medical Association,\\xa0288(19),  2432–40.'],\n",
              "   ['https://jamanetwork.com/journals/jama/ fullarticle/195531.',\n",
              "    'Accessed October 5, 2017.',\n",
              "    ' 538  |  Fat-Soluble Vitamins']],\n",
              "  'chunk_count': 2}]"
            ]
          },
          "execution_count": 26,
          "metadata": {},
          "output_type": "execute_result"
        }
      ],
      "source": [
        "random.sample(pages_and_texts,k=1)"
      ]
    },
    {
      "cell_type": "code",
      "execution_count": 27,
      "id": "d9256770",
      "metadata": {},
      "outputs": [
        {
          "data": {
            "text/html": [
              "<div>\n",
              "<style scoped>\n",
              "    .dataframe tbody tr th:only-of-type {\n",
              "        vertical-align: middle;\n",
              "    }\n",
              "\n",
              "    .dataframe tbody tr th {\n",
              "        vertical-align: top;\n",
              "    }\n",
              "\n",
              "    .dataframe thead th {\n",
              "        text-align: right;\n",
              "    }\n",
              "</style>\n",
              "<table border=\"1\" class=\"dataframe\">\n",
              "  <thead>\n",
              "    <tr style=\"text-align: right;\">\n",
              "      <th></th>\n",
              "      <th>page_number</th>\n",
              "      <th>page_char_count</th>\n",
              "      <th>page_word_count</th>\n",
              "      <th>page_sentence_count_raw</th>\n",
              "      <th>page_token_count</th>\n",
              "      <th>page_sentence_count</th>\n",
              "      <th>chunk_count</th>\n",
              "    </tr>\n",
              "  </thead>\n",
              "  <tbody>\n",
              "    <tr>\n",
              "      <th>count</th>\n",
              "      <td>1208.00000</td>\n",
              "      <td>1208.000000</td>\n",
              "      <td>1208.000000</td>\n",
              "      <td>1208.000000</td>\n",
              "      <td>1208.000000</td>\n",
              "      <td>1208.000000</td>\n",
              "      <td>1208.000000</td>\n",
              "    </tr>\n",
              "    <tr>\n",
              "      <th>mean</th>\n",
              "      <td>604.50000</td>\n",
              "      <td>1148.004139</td>\n",
              "      <td>171.966060</td>\n",
              "      <td>9.972682</td>\n",
              "      <td>287.001035</td>\n",
              "      <td>10.319536</td>\n",
              "      <td>1.525662</td>\n",
              "    </tr>\n",
              "    <tr>\n",
              "      <th>std</th>\n",
              "      <td>348.86387</td>\n",
              "      <td>560.382275</td>\n",
              "      <td>86.491465</td>\n",
              "      <td>6.187226</td>\n",
              "      <td>140.095569</td>\n",
              "      <td>6.300843</td>\n",
              "      <td>0.644397</td>\n",
              "    </tr>\n",
              "    <tr>\n",
              "      <th>min</th>\n",
              "      <td>1.00000</td>\n",
              "      <td>0.000000</td>\n",
              "      <td>0.000000</td>\n",
              "      <td>1.000000</td>\n",
              "      <td>0.000000</td>\n",
              "      <td>0.000000</td>\n",
              "      <td>0.000000</td>\n",
              "    </tr>\n",
              "    <tr>\n",
              "      <th>25%</th>\n",
              "      <td>302.75000</td>\n",
              "      <td>762.000000</td>\n",
              "      <td>109.000000</td>\n",
              "      <td>4.000000</td>\n",
              "      <td>190.500000</td>\n",
              "      <td>5.000000</td>\n",
              "      <td>1.000000</td>\n",
              "    </tr>\n",
              "    <tr>\n",
              "      <th>50%</th>\n",
              "      <td>604.50000</td>\n",
              "      <td>1231.500000</td>\n",
              "      <td>183.000000</td>\n",
              "      <td>10.000000</td>\n",
              "      <td>307.875000</td>\n",
              "      <td>10.000000</td>\n",
              "      <td>1.000000</td>\n",
              "    </tr>\n",
              "    <tr>\n",
              "      <th>75%</th>\n",
              "      <td>906.25000</td>\n",
              "      <td>1603.500000</td>\n",
              "      <td>239.000000</td>\n",
              "      <td>14.000000</td>\n",
              "      <td>400.875000</td>\n",
              "      <td>15.000000</td>\n",
              "      <td>2.000000</td>\n",
              "    </tr>\n",
              "    <tr>\n",
              "      <th>max</th>\n",
              "      <td>1208.00000</td>\n",
              "      <td>2308.000000</td>\n",
              "      <td>393.000000</td>\n",
              "      <td>32.000000</td>\n",
              "      <td>577.000000</td>\n",
              "      <td>28.000000</td>\n",
              "      <td>3.000000</td>\n",
              "    </tr>\n",
              "  </tbody>\n",
              "</table>\n",
              "</div>"
            ],
            "text/plain": [
              "       page_number  page_char_count  page_word_count  page_sentence_count_raw  \\\n",
              "count   1208.00000      1208.000000      1208.000000              1208.000000   \n",
              "mean     604.50000      1148.004139       171.966060                 9.972682   \n",
              "std      348.86387       560.382275        86.491465                 6.187226   \n",
              "min        1.00000         0.000000         0.000000                 1.000000   \n",
              "25%      302.75000       762.000000       109.000000                 4.000000   \n",
              "50%      604.50000      1231.500000       183.000000                10.000000   \n",
              "75%      906.25000      1603.500000       239.000000                14.000000   \n",
              "max     1208.00000      2308.000000       393.000000                32.000000   \n",
              "\n",
              "       page_token_count  page_sentence_count  chunk_count  \n",
              "count       1208.000000          1208.000000  1208.000000  \n",
              "mean         287.001035            10.319536     1.525662  \n",
              "std          140.095569             6.300843     0.644397  \n",
              "min            0.000000             0.000000     0.000000  \n",
              "25%          190.500000             5.000000     1.000000  \n",
              "50%          307.875000            10.000000     1.000000  \n",
              "75%          400.875000            15.000000     2.000000  \n",
              "max          577.000000            28.000000     3.000000  "
            ]
          },
          "execution_count": 27,
          "metadata": {},
          "output_type": "execute_result"
        }
      ],
      "source": [
        "df=pd.DataFrame(pages_and_texts)\n",
        "df.describe()"
      ]
    },
    {
      "cell_type": "markdown",
      "id": "63353413",
      "metadata": {},
      "source": [
        "## Splitting chunks to separate items\n",
        "so that we can add meta data to each chunk ans can embed them together.\n"
      ]
    },
    {
      "cell_type": "code",
      "execution_count": 29,
      "id": "c90e4229",
      "metadata": {},
      "outputs": [
        {
          "name": "stderr",
          "output_type": "stream",
          "text": [
            "  0%|          | 0/1208 [00:00<?, ?it/s]"
          ]
        },
        {
          "name": "stderr",
          "output_type": "stream",
          "text": [
            "100%|██████████| 1208/1208 [00:00<00:00, 4467.75it/s]\n"
          ]
        },
        {
          "data": {
            "text/plain": [
              "1843"
            ]
          },
          "execution_count": 29,
          "metadata": {},
          "output_type": "execute_result"
        }
      ],
      "source": [
        "pages_and_chunks = []\n",
        "\n",
        "for item in tqdm(pages_and_texts):\n",
        "    for chunk in item[\"sentence_chunks\"]:\n",
        "        chunk_dict = {}\n",
        "            \n",
        "        chunk_dict[\"page_number\"] = item[\"page_number\"] # original page number\n",
        "        chunk_dict[\"text\"] =  \" \".join(chunk).replace(\"  \",\" \").strip() # original text\n",
        "        chunk_dict[\"sentence_chunk\"] = chunk\n",
        "        chunk_dict[\"chunk_char_count\"]  =  len(chunk_dict[\"text\"])\n",
        "        chunk_dict[\"chunk_word_count\"]  =  len([word for word in chunk_dict[\"text\"].split() if word])\n",
        "        chunk_dict[\"chunk_token_count\"] = chunk_dict[\"chunk_char_count\"] / 4\n",
        "        \n",
        "        pages_and_chunks.append(chunk_dict)\n",
        "        \n",
        "len(pages_and_chunks)      "
      ]
    },
    {
      "cell_type": "code",
      "execution_count": 33,
      "id": "a0818edd",
      "metadata": {},
      "outputs": [
        {
          "data": {
            "text/plain": [
              "[{'page_number': 210,\n",
              "  'text': 'Image by Allison Calabrese / CC BY 4.0 The Kidneys Detect Blood Volume The kidneys are two bean-shaped organs, each about the size of a fist and located on either side of the spine just below the rib cage. The kidneys filter about 190 liters of blood and produce (on average) 1.5 liters of urine per day. Urine is mostly water, but it also contains electrolytes and waste products, such as urea. The amount of water filtered from the blood and excreted as urine is dependent on the amount of water in, and the electrolyte composition in the blood. Kidneys have protein sensors that detect blood volume from the pressure, or stretch, in the blood vessels of the kidneys. When blood volume is low, kidney cells detect decreased pressure and secrete the enzyme, renin. Renin travels in the blood and cleaves another protein into the active hormone, angiotensin. Angiotensin targets three different organs (the adrenal glands, the hypothalamus, and 168 | Regulation of Water Balance',\n",
              "  'sentence_chunk': ['Image by  Allison  Calabrese /  CC BY 4.0  The Kidneys Detect Blood Volume  The kidneys are two bean-shaped organs, each about the size of a  fist and located on either side of the spine just below the rib cage.',\n",
              "   ' The kidneys filter about 190 liters of blood and produce (on average)  1.5 liters of urine per day.',\n",
              "   'Urine is mostly water, but it also contains  electrolytes and waste products, such as urea.',\n",
              "   'The amount of water  filtered from the blood and excreted as urine is dependent on the  amount of water in, and the electrolyte composition in the blood.',\n",
              "   ' Kidneys have protein sensors that detect blood volume from the  pressure, or stretch, in the blood vessels of the kidneys.',\n",
              "   'When blood  volume is low, kidney cells detect decreased pressure and secrete  the enzyme, renin.',\n",
              "   'Renin travels in the blood and cleaves another  protein into the active hormone, angiotensin.',\n",
              "   'Angiotensin targets  three different organs (the adrenal glands, the hypothalamus, and  168  |  Regulation of Water Balance'],\n",
              "  'chunk_char_count': 978,\n",
              "  'chunk_word_count': 165,\n",
              "  'chunk_token_count': 244.5}]"
            ]
          },
          "execution_count": 33,
          "metadata": {},
          "output_type": "execute_result"
        }
      ],
      "source": [
        "random.sample(pages_and_chunks,k=1)"
      ]
    },
    {
      "cell_type": "code",
      "execution_count": 34,
      "id": "993b6171",
      "metadata": {},
      "outputs": [
        {
          "data": {
            "text/html": [
              "<div>\n",
              "<style scoped>\n",
              "    .dataframe tbody tr th:only-of-type {\n",
              "        vertical-align: middle;\n",
              "    }\n",
              "\n",
              "    .dataframe tbody tr th {\n",
              "        vertical-align: top;\n",
              "    }\n",
              "\n",
              "    .dataframe thead th {\n",
              "        text-align: right;\n",
              "    }\n",
              "</style>\n",
              "<table border=\"1\" class=\"dataframe\">\n",
              "  <thead>\n",
              "    <tr style=\"text-align: right;\">\n",
              "      <th></th>\n",
              "      <th>page_number</th>\n",
              "      <th>chunk_char_count</th>\n",
              "      <th>chunk_word_count</th>\n",
              "      <th>chunk_token_count</th>\n",
              "    </tr>\n",
              "  </thead>\n",
              "  <tbody>\n",
              "    <tr>\n",
              "      <th>count</th>\n",
              "      <td>1843.00</td>\n",
              "      <td>1843.00</td>\n",
              "      <td>1843.00</td>\n",
              "      <td>1843.00</td>\n",
              "    </tr>\n",
              "    <tr>\n",
              "      <th>mean</th>\n",
              "      <td>625.38</td>\n",
              "      <td>735.11</td>\n",
              "      <td>112.85</td>\n",
              "      <td>183.78</td>\n",
              "    </tr>\n",
              "    <tr>\n",
              "      <th>std</th>\n",
              "      <td>347.79</td>\n",
              "      <td>447.64</td>\n",
              "      <td>71.28</td>\n",
              "      <td>111.91</td>\n",
              "    </tr>\n",
              "    <tr>\n",
              "      <th>min</th>\n",
              "      <td>1.00</td>\n",
              "      <td>12.00</td>\n",
              "      <td>3.00</td>\n",
              "      <td>3.00</td>\n",
              "    </tr>\n",
              "    <tr>\n",
              "      <th>25%</th>\n",
              "      <td>322.50</td>\n",
              "      <td>315.00</td>\n",
              "      <td>45.00</td>\n",
              "      <td>78.75</td>\n",
              "    </tr>\n",
              "    <tr>\n",
              "      <th>50%</th>\n",
              "      <td>628.00</td>\n",
              "      <td>747.00</td>\n",
              "      <td>115.00</td>\n",
              "      <td>186.75</td>\n",
              "    </tr>\n",
              "    <tr>\n",
              "      <th>75%</th>\n",
              "      <td>932.00</td>\n",
              "      <td>1119.00</td>\n",
              "      <td>173.00</td>\n",
              "      <td>279.75</td>\n",
              "    </tr>\n",
              "    <tr>\n",
              "      <th>max</th>\n",
              "      <td>1208.00</td>\n",
              "      <td>1832.00</td>\n",
              "      <td>298.00</td>\n",
              "      <td>458.00</td>\n",
              "    </tr>\n",
              "  </tbody>\n",
              "</table>\n",
              "</div>"
            ],
            "text/plain": [
              "       page_number  chunk_char_count  chunk_word_count  chunk_token_count\n",
              "count      1843.00           1843.00           1843.00            1843.00\n",
              "mean        625.38            735.11            112.85             183.78\n",
              "std         347.79            447.64             71.28             111.91\n",
              "min           1.00             12.00              3.00               3.00\n",
              "25%         322.50            315.00             45.00              78.75\n",
              "50%         628.00            747.00            115.00             186.75\n",
              "75%         932.00           1119.00            173.00             279.75\n",
              "max        1208.00           1832.00            298.00             458.00"
            ]
          },
          "execution_count": 34,
          "metadata": {},
          "output_type": "execute_result"
        }
      ],
      "source": [
        "df = pd.DataFrame(pages_and_chunks)\n",
        "df.describe().round(2)"
      ]
    },
    {
      "cell_type": "markdown",
      "id": "f0ffa5f3",
      "metadata": {},
      "source": [
        "# remove chunks with less than 30 token"
      ]
    },
    {
      "cell_type": "code",
      "execution_count": 44,
      "id": "3a307c38",
      "metadata": {},
      "outputs": [],
      "source": [
        "min_chunk_token_limit = 30\n",
        "\n",
        "pages_and_chunks_filtered = df[df['chunk_token_count'] > min_chunk_token_limit].to_dict(orient=\"records\")"
      ]
    },
    {
      "cell_type": "code",
      "execution_count": 60,
      "id": "2b191e58",
      "metadata": {},
      "outputs": [
        {
          "data": {
            "text/plain": [
              "[{'page_number': 643,\n",
              "  'text': 'Phytochemical Phytochemical Source Phytochemical Function: Carotenoid Yellow-orange fruits, dark green leafy vegetables May possess strong cancer-fighting properties Indoles Cruciferous vegetables (i.e. bok choy, broccoli, choy sum) May inhibit the development of cancer-causing hormones and prevent tumor growth Phytoestrogen Grapes, berries, plums, soybeans, tofu, garlic May lower the risk for osteoporosis, heart disease, breast cancer, and menopausal symptoms Stanols Grains, nuts, legumes May lower blood cholesterol levels and reduce the risk of heart disease and stroke Saponins Broad beans, kidney beans, lentils May decrease blood lipids, lower cancer risks, and lower blood glucose response Terpenes Citrus fruits May slow cancer cell growth, aid in immune system support, and prevent virus related illness Flavonoids Fruits, vegetables, chocolates, wines, teas, nuts, seeds May benefit the immune system and prevent cancer cell growth. Anthocyanidins Fruits and vegetables with vibrant colors of orange, red, purple, and blue May prevent cardiovascular disease, reduce cancer cell proliferation (growth/ multiplication) and inhibit tumor formation. Phenolic acids Coffee, fruits, vegetables, nuts, cereals, legumes, oilseeds, beverages and herbs May prevent cellular damage due to free-radical oxidation reaction and promote anti-inflammatory conditions in the body. Sources: Bacciottini, L., Falchetti, A., Pampaloni, B., Bartolini, E., Carossino, A. M., & Brandi, M. L. (2007). Phytoestrogens: Food or drug? Clinical Cases in Mineral and Bone Metabolism, 4(2), 123–130. Bagchi, D., Sen, C. K., Bagchi, M., & Atalay, M. (2004). Anti- Phytochemicals | 601',\n",
              "  'sentence_chunk': ['Phytochemical  Phytochemical  Source  Phytochemical Function:  Carotenoid  Yellow-orange  fruits, dark green  leafy vegetables  May possess strong  cancer-fighting properties  Indoles  Cruciferous  vegetables (i.e. bok  choy, broccoli, choy  sum)  May inhibit the development of  cancer-causing hormones and  prevent tumor growth  Phytoestrogen  Grapes, berries,  plums, soybeans,  tofu, garlic  May lower the risk for  osteoporosis, heart disease,  breast cancer, and menopausal  symptoms  Stanols  Grains, nuts,  legumes  May lower blood cholesterol  levels and reduce the risk of  heart disease and stroke  Saponins  Broad beans, kidney  beans, lentils  May decrease blood lipids, lower  cancer risks, and lower blood  glucose response  Terpenes  Citrus fruits  May slow cancer cell growth, aid  in immune system support, and  prevent virus related illness  Flavonoids  Fruits, vegetables,  chocolates, wines,  teas, nuts, seeds  May benefit the immune system  and prevent cancer cell growth.',\n",
              "   ' Anthocyanidins  Fruits and  vegetables with  vibrant colors of  orange, red, purple,  and blue  May prevent cardiovascular  disease, reduce cancer cell  proliferation (growth/ multiplication) and inhibit tumor  formation.',\n",
              "   ' Phenolic acids  Coffee, fruits,  vegetables, nuts,  cereals, legumes,  oilseeds, beverages  and herbs  May prevent cellular damage due  to free-radical oxidation  reaction and promote  anti-inflammatory conditions in  the body.',\n",
              "   ' Sources:  Bacciottini, L., Falchetti, A., Pampaloni, B., Bartolini, E., Carossino, A.  M., & Brandi, M. L. (2007).',\n",
              "   'Phytoestrogens: Food or drug?',\n",
              "   'Clinical  Cases in Mineral and Bone Metabolism, 4(2), 123–130.',\n",
              "   ' Bagchi, D., Sen, C. K., Bagchi, M., & Atalay, M. (2004).',\n",
              "   'Anti- Phytochemicals  |  601'],\n",
              "  'chunk_char_count': 1667,\n",
              "  'chunk_word_count': 229,\n",
              "  'chunk_token_count': 416.75}]"
            ]
          },
          "execution_count": 60,
          "metadata": {},
          "output_type": "execute_result"
        }
      ],
      "source": [
        "random.sample(pages_and_chunks_filtered,k=1)"
      ]
    }
  ],
  "metadata": {
    "colab": {
      "provenance": []
    },
    "kernelspec": {
      "display_name": "Python 3 (ipykernel)",
      "language": "python",
      "name": "python3"
    },
    "language_info": {
      "codemirror_mode": {
        "name": "ipython",
        "version": 3
      },
      "file_extension": ".py",
      "mimetype": "text/x-python",
      "name": "python",
      "nbconvert_exporter": "python",
      "pygments_lexer": "ipython3",
      "version": "3.12.6"
    },
    "widgets": {
      "application/vnd.jupyter.widget-state+json": {
        "0aaa15e598d645298997ad3ec60160b2": {
          "model_module": "@jupyter-widgets/controls",
          "model_module_version": "1.5.0",
          "model_name": "DescriptionStyleModel",
          "state": {
            "_model_module": "@jupyter-widgets/controls",
            "_model_module_version": "1.5.0",
            "_model_name": "DescriptionStyleModel",
            "_view_count": null,
            "_view_module": "@jupyter-widgets/base",
            "_view_module_version": "1.2.0",
            "_view_name": "StyleView",
            "description_width": ""
          }
        },
        "2037640e59704ff6b6831a6218034f6f": {
          "model_module": "@jupyter-widgets/controls",
          "model_module_version": "1.5.0",
          "model_name": "ProgressStyleModel",
          "state": {
            "_model_module": "@jupyter-widgets/controls",
            "_model_module_version": "1.5.0",
            "_model_name": "ProgressStyleModel",
            "_view_count": null,
            "_view_module": "@jupyter-widgets/base",
            "_view_module_version": "1.2.0",
            "_view_name": "StyleView",
            "bar_color": null,
            "description_width": ""
          }
        },
        "2f4d32b2c8a14b08abea98ae6e2449b5": {
          "model_module": "@jupyter-widgets/base",
          "model_module_version": "1.2.0",
          "model_name": "LayoutModel",
          "state": {
            "_model_module": "@jupyter-widgets/base",
            "_model_module_version": "1.2.0",
            "_model_name": "LayoutModel",
            "_view_count": null,
            "_view_module": "@jupyter-widgets/base",
            "_view_module_version": "1.2.0",
            "_view_name": "LayoutView",
            "align_content": null,
            "align_items": null,
            "align_self": null,
            "border": null,
            "bottom": null,
            "display": null,
            "flex": null,
            "flex_flow": null,
            "grid_area": null,
            "grid_auto_columns": null,
            "grid_auto_flow": null,
            "grid_auto_rows": null,
            "grid_column": null,
            "grid_gap": null,
            "grid_row": null,
            "grid_template_areas": null,
            "grid_template_columns": null,
            "grid_template_rows": null,
            "height": null,
            "justify_content": null,
            "justify_items": null,
            "left": null,
            "margin": null,
            "max_height": null,
            "max_width": null,
            "min_height": null,
            "min_width": null,
            "object_fit": null,
            "object_position": null,
            "order": null,
            "overflow": null,
            "overflow_x": null,
            "overflow_y": null,
            "padding": null,
            "right": null,
            "top": null,
            "visibility": null,
            "width": "20px"
          }
        },
        "3ecf5dc31fab473db48d5f12cd9cf59b": {
          "model_module": "@jupyter-widgets/base",
          "model_module_version": "1.2.0",
          "model_name": "LayoutModel",
          "state": {
            "_model_module": "@jupyter-widgets/base",
            "_model_module_version": "1.2.0",
            "_model_name": "LayoutModel",
            "_view_count": null,
            "_view_module": "@jupyter-widgets/base",
            "_view_module_version": "1.2.0",
            "_view_name": "LayoutView",
            "align_content": null,
            "align_items": null,
            "align_self": null,
            "border": null,
            "bottom": null,
            "display": null,
            "flex": null,
            "flex_flow": null,
            "grid_area": null,
            "grid_auto_columns": null,
            "grid_auto_flow": null,
            "grid_auto_rows": null,
            "grid_column": null,
            "grid_gap": null,
            "grid_row": null,
            "grid_template_areas": null,
            "grid_template_columns": null,
            "grid_template_rows": null,
            "height": null,
            "justify_content": null,
            "justify_items": null,
            "left": null,
            "margin": null,
            "max_height": null,
            "max_width": null,
            "min_height": null,
            "min_width": null,
            "object_fit": null,
            "object_position": null,
            "order": null,
            "overflow": null,
            "overflow_x": null,
            "overflow_y": null,
            "padding": null,
            "right": null,
            "top": null,
            "visibility": null,
            "width": null
          }
        },
        "58b6f82bfe344deb8b9f6d297296a360": {
          "model_module": "@jupyter-widgets/controls",
          "model_module_version": "1.5.0",
          "model_name": "HTMLModel",
          "state": {
            "_dom_classes": [],
            "_model_module": "@jupyter-widgets/controls",
            "_model_module_version": "1.5.0",
            "_model_name": "HTMLModel",
            "_view_count": null,
            "_view_module": "@jupyter-widgets/controls",
            "_view_module_version": "1.5.0",
            "_view_name": "HTMLView",
            "description": "",
            "description_tooltip": null,
            "layout": "IPY_MODEL_e74d1bd6172549a68eea5b5db6d02b88",
            "placeholder": "​",
            "style": "IPY_MODEL_0aaa15e598d645298997ad3ec60160b2",
            "value": " 1208/? [00:03&lt;00:00, 329.94it/s]"
          }
        },
        "943921e9d4dc44a8822e852bb0c7fa69": {
          "model_module": "@jupyter-widgets/base",
          "model_module_version": "1.2.0",
          "model_name": "LayoutModel",
          "state": {
            "_model_module": "@jupyter-widgets/base",
            "_model_module_version": "1.2.0",
            "_model_name": "LayoutModel",
            "_view_count": null,
            "_view_module": "@jupyter-widgets/base",
            "_view_module_version": "1.2.0",
            "_view_name": "LayoutView",
            "align_content": null,
            "align_items": null,
            "align_self": null,
            "border": null,
            "bottom": null,
            "display": null,
            "flex": null,
            "flex_flow": null,
            "grid_area": null,
            "grid_auto_columns": null,
            "grid_auto_flow": null,
            "grid_auto_rows": null,
            "grid_column": null,
            "grid_gap": null,
            "grid_row": null,
            "grid_template_areas": null,
            "grid_template_columns": null,
            "grid_template_rows": null,
            "height": null,
            "justify_content": null,
            "justify_items": null,
            "left": null,
            "margin": null,
            "max_height": null,
            "max_width": null,
            "min_height": null,
            "min_width": null,
            "object_fit": null,
            "object_position": null,
            "order": null,
            "overflow": null,
            "overflow_x": null,
            "overflow_y": null,
            "padding": null,
            "right": null,
            "top": null,
            "visibility": null,
            "width": null
          }
        },
        "95b3ddaae76d4b4bb739209972932049": {
          "model_module": "@jupyter-widgets/controls",
          "model_module_version": "1.5.0",
          "model_name": "FloatProgressModel",
          "state": {
            "_dom_classes": [],
            "_model_module": "@jupyter-widgets/controls",
            "_model_module_version": "1.5.0",
            "_model_name": "FloatProgressModel",
            "_view_count": null,
            "_view_module": "@jupyter-widgets/controls",
            "_view_module_version": "1.5.0",
            "_view_name": "ProgressView",
            "bar_style": "success",
            "description": "",
            "description_tooltip": null,
            "layout": "IPY_MODEL_2f4d32b2c8a14b08abea98ae6e2449b5",
            "max": 1,
            "min": 0,
            "orientation": "horizontal",
            "style": "IPY_MODEL_2037640e59704ff6b6831a6218034f6f",
            "value": 1
          }
        },
        "a3d813885d9d43e99e431c6da08a47f2": {
          "model_module": "@jupyter-widgets/controls",
          "model_module_version": "1.5.0",
          "model_name": "DescriptionStyleModel",
          "state": {
            "_model_module": "@jupyter-widgets/controls",
            "_model_module_version": "1.5.0",
            "_model_name": "DescriptionStyleModel",
            "_view_count": null,
            "_view_module": "@jupyter-widgets/base",
            "_view_module_version": "1.2.0",
            "_view_name": "StyleView",
            "description_width": ""
          }
        },
        "bf3e16a6c2cb41bcbc53859df9652bba": {
          "model_module": "@jupyter-widgets/controls",
          "model_module_version": "1.5.0",
          "model_name": "HTMLModel",
          "state": {
            "_dom_classes": [],
            "_model_module": "@jupyter-widgets/controls",
            "_model_module_version": "1.5.0",
            "_model_name": "HTMLModel",
            "_view_count": null,
            "_view_module": "@jupyter-widgets/controls",
            "_view_module_version": "1.5.0",
            "_view_name": "HTMLView",
            "description": "",
            "description_tooltip": null,
            "layout": "IPY_MODEL_3ecf5dc31fab473db48d5f12cd9cf59b",
            "placeholder": "​",
            "style": "IPY_MODEL_a3d813885d9d43e99e431c6da08a47f2",
            "value": ""
          }
        },
        "e74d1bd6172549a68eea5b5db6d02b88": {
          "model_module": "@jupyter-widgets/base",
          "model_module_version": "1.2.0",
          "model_name": "LayoutModel",
          "state": {
            "_model_module": "@jupyter-widgets/base",
            "_model_module_version": "1.2.0",
            "_model_name": "LayoutModel",
            "_view_count": null,
            "_view_module": "@jupyter-widgets/base",
            "_view_module_version": "1.2.0",
            "_view_name": "LayoutView",
            "align_content": null,
            "align_items": null,
            "align_self": null,
            "border": null,
            "bottom": null,
            "display": null,
            "flex": null,
            "flex_flow": null,
            "grid_area": null,
            "grid_auto_columns": null,
            "grid_auto_flow": null,
            "grid_auto_rows": null,
            "grid_column": null,
            "grid_gap": null,
            "grid_row": null,
            "grid_template_areas": null,
            "grid_template_columns": null,
            "grid_template_rows": null,
            "height": null,
            "justify_content": null,
            "justify_items": null,
            "left": null,
            "margin": null,
            "max_height": null,
            "max_width": null,
            "min_height": null,
            "min_width": null,
            "object_fit": null,
            "object_position": null,
            "order": null,
            "overflow": null,
            "overflow_x": null,
            "overflow_y": null,
            "padding": null,
            "right": null,
            "top": null,
            "visibility": null,
            "width": null
          }
        },
        "f28627cdf71d41e5bbabc9d971dc7959": {
          "model_module": "@jupyter-widgets/controls",
          "model_module_version": "1.5.0",
          "model_name": "HBoxModel",
          "state": {
            "_dom_classes": [],
            "_model_module": "@jupyter-widgets/controls",
            "_model_module_version": "1.5.0",
            "_model_name": "HBoxModel",
            "_view_count": null,
            "_view_module": "@jupyter-widgets/controls",
            "_view_module_version": "1.5.0",
            "_view_name": "HBoxView",
            "box_style": "",
            "children": [
              "IPY_MODEL_bf3e16a6c2cb41bcbc53859df9652bba",
              "IPY_MODEL_95b3ddaae76d4b4bb739209972932049",
              "IPY_MODEL_58b6f82bfe344deb8b9f6d297296a360"
            ],
            "layout": "IPY_MODEL_943921e9d4dc44a8822e852bb0c7fa69"
          }
        }
      }
    }
  },
  "nbformat": 4,
  "nbformat_minor": 5
}
